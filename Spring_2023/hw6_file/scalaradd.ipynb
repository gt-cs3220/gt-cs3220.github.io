{
 "cells": [
  {
   "cell_type": "code",
   "execution_count": null,
   "id": "convertible-salem",
   "metadata": {},
   "outputs": [],
   "source": [
    "from pynq import Overlay\n",
    "overlay = Overlay('/home/xilinx/tutorial_1.bit')\n"
   ]
  },
  {
   "cell_type": "code",
   "execution_count": null,
   "id": "funded-circus",
   "metadata": {},
   "outputs": [],
   "source": [
    "help(overlay)"
   ]
  },
  {
   "cell_type": "code",
   "execution_count": null,
   "id": "historical-edwards",
   "metadata": {},
   "outputs": [],
   "source": [
    "\n",
    "add_ip = overlay.scalar_add\n",
    "help(add_ip)\n",
    "\n"
   ]
  },
  {
   "cell_type": "code",
   "execution_count": null,
   "id": "listed-mapping",
   "metadata": {},
   "outputs": [],
   "source": [
    "add_ip.write(0x10, 4)\n",
    "add_ip.write(0x18, 5)\n",
    "add_ip.read(0x20)\n",
    "\n",
    "\n"
   ]
  },
  {
   "cell_type": "code",
   "execution_count": null,
   "id": "native-grain",
   "metadata": {},
   "outputs": [],
   "source": [
    "\n",
    "\n",
    "from pynq import DefaultIP\n",
    "\n",
    "class AddDriver(DefaultIP):\n",
    "    def __init__(self, description):\n",
    "        super().__init__(description=description)\n",
    "\n",
    "    bindto = ['xilinx.com:hls:add:1.0']\n",
    "\n",
    "    def add(self, a, b):\n",
    "        self.write(0x10, a)\n",
    "        self.write(0x18, b)\n",
    "        return self.read(0x20)\n",
    "    \n"
   ]
  },
  {
   "cell_type": "code",
   "execution_count": null,
   "id": "turkish-mailing",
   "metadata": {},
   "outputs": [],
   "source": [
    "overlay = Overlay('/home/xilinx/tutorial_1.bit')\n",
    "help(overlay)\n",
    "\n"
   ]
  },
  {
   "cell_type": "code",
   "execution_count": null,
   "id": "indian-flush",
   "metadata": {},
   "outputs": [],
   "source": [
    "overlay.scalar_add.add(15,20)\n",
    "\n"
   ]
  },
  {
   "cell_type": "code",
   "execution_count": null,
   "id": "electrical-council",
   "metadata": {},
   "outputs": [],
   "source": [
    "add_ip = overlay.scalar_add\n",
    "help(add_ip)"
   ]
  }
 ],
 "metadata": {
  "kernelspec": {
   "display_name": "Python 3",
   "language": "python",
   "name": "python3"
  },
  "language_info": {
   "codemirror_mode": {
    "name": "ipython",
    "version": 3
   },
   "file_extension": ".py",
   "mimetype": "text/x-python",
   "name": "python",
   "nbconvert_exporter": "python",
   "pygments_lexer": "ipython3",
   "version": "3.8.8"
  }
 },
 "nbformat": 4,
 "nbformat_minor": 5
}
