{
 "cells": [
  {
   "cell_type": "code",
   "execution_count": null,
   "metadata": {},
   "outputs": [],
   "source": [
    "import math#from pynq import Overlay\n",
    "from PIL import Image as PIL_Image\n",
    "from PIL import ImageDraw as PIL_ImageDraw\n",
    "from PIL import ImageFont\n",
    "import matplotlib.pyplot as plt\n",
    "import numpy as np\n",
    "import math\n",
    "import cv2\n",
    "from pynq import MMIO\n",
    "from pynq import Xlnk\n",
    "import time\n",
    "import ctypes"
   ]
  },
  {
   "cell_type": "markdown",
   "metadata": {},
   "source": [
    "## Preparing input images"
   ]
  },
  {
   "cell_type": "code",
   "execution_count": null,
   "metadata": {
    "scrolled": false
   },
   "outputs": [],
   "source": [
    "#image path \n",
    "ORIG_IMG_PATH   = 'gt_100.jpeg'\n",
    "\n",
    "image=cv2.imread(ORIG_IMG_PATH)\n",
    "gray=cv2.cvtColor(image, cv2.COLOR_BGR2GRAY)\n",
    "\n",
    "plt.imshow(image)\n",
    "plt.show()\n",
    "\n",
    "plt.imshow(gray)\n",
    "plt.show()\n",
    "\n",
    "\n",
    "if len(image.shape) == 3:\n",
    "    print(\"Found 3 Channels : {}\".format(image.shape))\n",
    "    image = cv2.cvtColor(image, cv2.COLOR_BGR2GRAY)\n",
    "    print(\"Converted to Gray Channel. Size : {}\".format(image.shape))\n",
    "else:\n",
    "    print(\"Image Shape : {}\".format(image.shape))\n",
    "\n",
    "    print(\"Kernel Shape : {}\".format(kernel.shape))\n",
    "\n",
    "plt.imshow(image, cmap='gray')\n",
    "plt.title(\"Image\")\n",
    "plt.show()\n"
   ]
  },
  {
   "cell_type": "code",
   "execution_count": null,
   "metadata": {
    "scrolled": false
   },
   "outputs": [],
   "source": [
    "from pynq import (allocate, Overlay)\n",
    "import numpy as np\n",
    "ol=Overlay('./example.bit')\n",
    "\n",
    "## you should check whether axi_dma_0 and example_0 are in the ip dict list. \n",
    "# ol.ip_dict  "
   ]
  },
  {
   "cell_type": "markdown",
   "metadata": {},
   "source": [
    "###  Load Bitstreamd and overlay"
   ]
  },
  {
   "cell_type": "code",
   "execution_count": null,
   "metadata": {},
   "outputs": [],
   "source": [
    "def fpga_convolution(image,kernel, ol):\n",
    "    \n",
    "    ###  Creat DMA instances \n",
    "    ##  Using the labels for the DMAs listed above, we can create two DMA objects.\n",
    "    ol.axi_dma_0?\n",
    "\n",
    "\n",
    "    dma = ol.axi_dma_0\n",
    "    dma_send = ol.axi_dma_0.sendchannel\n",
    "    dma_recv = ol.axi_dma_0.recvchannel\n",
    "\n",
    "    example_ip=ol.example_0\n",
    "\n",
    "    ## comment out hlep but initially you wnat to check whether example ip exists \n",
    "    # help(example_ip)\n",
    "    ## Pack kernel first as 1D \n",
    "    \n",
    "    ## flatten kernel and convert float as a fixed input \n",
    "    kernel_row, kernel_col = kernel.shape\n",
    "    kernel_size = kernel_row * kernel_col \n",
    "    kernel_1D = allocate(shape=(kernel_size,), dtype=np.int32)\n",
    "    \n",
    "    ## initialize kernel with I \n",
    "    for i in range (kernel_row):\n",
    "        for j in range (kernel_col):\n",
    "            kernel_1D[i*kernel_col+j] = kernel[i,j]*1000\n",
    "        \n",
    "    \n",
    "    \n",
    "    image_row, image_col = image.shape\n",
    "    \n",
    "    ## now we need to tell that we are starting \n",
    "    image_size = image_row * image_col \n",
    "    \n",
    "    ## prepare 1D-image array \n",
    "    input_image = allocate(shape=(image_size,), dtype=np.int32)\n",
    "    \n",
    "    ## prepare data to send \n",
    "    send_data = allocate(shape=(image_size+kernel_size,), dtype=np.int32)\n",
    "   \n",
    "    # prepare output image array \n",
    "    output_image = allocate(shape=(image_size,), dtype=np.int32)\n",
    "    \n",
    "    ## prepare data to receive \n",
    "    receiv_data = allocate(shape=(image_size+kernel_size,), dtype=np.int32)\n",
    "    \n",
    "    om = allocate(shape=(image_row, image_col,), dtype=np.single)\n",
    "\n",
    "    ## reshape 2 dimenional array into 1-D array \n",
    "    ## we convert floating point as fixed point integer \n",
    "    for i in range(image_row):\n",
    "        for j in range (image_col):\n",
    "            input_image[i*image_col+j] = image[i,j]*1000 \n",
    "    \n",
    "    # send_data = np.concatenate([input_image, kernel_1D])\n",
    "    send_data = input_image; \n",
    "    \n",
    "    \n",
    "    ## set up convolution layer to be read (set up AP_CTRL signals using MMIO) bit 1: AP_start\n",
    "        \n",
    "    example_ip.write(0,1)\n",
    "    # see if the value is written. if not, wait and repeat the above cell again \n",
    "    status_value=example_ip.read(0)\n",
    "    print (\"status_value\", status_value)\n",
    "    \n",
    "    while (status_value!= 1 ):\n",
    "        time.sleep(10)\n",
    "        status_value= example_ip.read(0)\n",
    "        print (\"Accelerator is busy watiting\", status_value)\n",
    "\n",
    "    print(\"DMA is ready\")\n",
    "    \n",
    "    ## actually sending data into DMA and cov units \n",
    "        \n",
    "    start_time=time.time()\n",
    "    \n",
    "    if (status_value==1): \n",
    "        dma_send.transfer(send_data) \n",
    "       # dma_send.transfer(input_image)\n",
    "        dma_recv.transfer(output_image)\n",
    "    \n",
    "\n",
    "    # need to wait until the read transaction is done (read state should be 4) \n",
    "    status_value = example_ip.read(0)\n",
    "    print(\"status value--during running:\", status_value)\n",
    "\n",
    "    \n",
    "    while (status_value== 6):\n",
    "        time.sleep(10)\n",
    "        status_value= example_ip.read(0)\n",
    "        print (\"status value:--finished\", status_value)\n",
    "\n",
    "    end_time=time.time()\n",
    "    exec_time = end_time-start_time\n",
    "    print (\"Elapsed time:{}\".format(exec_time))\n",
    "    \n",
    "    \n",
    "  #  for i in range (30):\n",
    "   #     print(hex(output_image[image_row*image_col-i-1]))\n",
    "        #print(hex(output_image[i]))\n",
    "    \n",
    "   # for ii in range (0,image_size, 100):\n",
    "    #    if (input_image[ii] != output_image[ii]):\n",
    "     #       print(\"ii is :\", ii , \"input: \", hex(input_image[ii]), \"output: \", hex(output_image[ii]))\n",
    "    ## reshape the image into 1D again and convert floating point back to integer \n",
    "    for i in range(image_row):\n",
    "        for j in range (image_col):\n",
    "            om[i,j] = output_image[i*image_col+j]/1000 ## change hyesoon \n",
    "           ## om[i,j] = input_image[i*image_col+j]/1000 \n",
    "    \n",
    "    return om"
   ]
  },
  {
   "cell_type": "markdown",
   "metadata": {},
   "source": [
    "## Gaussian fiter implementation "
   ]
  },
  {
   "cell_type": "code",
   "execution_count": null,
   "metadata": {},
   "outputs": [],
   "source": [
    "\n",
    "def dnorm(x, mu, sd):\n",
    "    return 1 / (np.sqrt(2 * np.pi) * sd) * np.e ** (-np.power((x - mu) / sd, 2) / 2)\n",
    "\n",
    "\n",
    "def gaussian_kernel(size, sigma=1, verbose=False):\n",
    "    kernel_1D = np.linspace(-(size // 2), size // 2, size)\n",
    "    for i in range(size):\n",
    "        kernel_1D[i] = dnorm(kernel_1D[i], 0, sigma)\n",
    "    kernel_2D = np.outer(kernel_1D.T, kernel_1D.T)\n",
    "\n",
    "    kernel_2D *= 1.0 / kernel_2D.max()\n",
    "\n",
    "    if verbose:\n",
    "        plt.imshow(kernel_2D, interpolation='none', cmap='gray')\n",
    "        plt.title(\"Kernel ( {}X{} )\".format(size, size))\n",
    "        plt.show()\n",
    "\n",
    "    return kernel_2D\n",
    "\n",
    "\n",
    "def gaussian_blur(image, kernel_size, ol,verbose=False):\n",
    "    kernel = gaussian_kernel(kernel_size, sigma=math.sqrt(kernel_size), verbose=verbose)\n",
    "    return fpga_convolution(image, kernel, ol)\n",
    "    # return convolution(image, kernel, average=True, verbose=verbose)\n",
    "\n"
   ]
  },
  {
   "cell_type": "markdown",
   "metadata": {},
   "source": [
    "## sobel edge detection"
   ]
  },
  {
   "cell_type": "code",
   "execution_count": null,
   "metadata": {},
   "outputs": [],
   "source": [
    "def sobel_edge_detection(image, filter, ol,verbose=False):\n",
    "    new_image_x = fpga_convolution(image, filter, ol)\n",
    "\n",
    "    if verbose:\n",
    "        plt.imshow(new_image_x, cmap='gray')\n",
    "        plt.title(\"Horizontal Edge\")\n",
    "        plt.show()\n",
    "\n",
    "    #new_image_y = convolution(image, np.flip(filter.T, axis=0), verbose)\n",
    "    new_image_y = fpga_convolution(image, filter, ol)\n",
    "    if verbose:\n",
    "        plt.imshow(new_image_y, cmap='gray')\n",
    "        plt.title(\"Vertical Edge\")\n",
    "        plt.show()\n",
    "\n",
    "    gradient_magnitude = np.sqrt(np.square(new_image_x) + np.square(new_image_y))\n",
    "\n",
    "    gradient_magnitude *= 255.0 / gradient_magnitude.max()\n",
    "\n",
    "    if verbose:\n",
    "        plt.imshow(gradient_magnitude, cmap='gray')\n",
    "        plt.title(\"Gradient Magnitude\")\n",
    "        plt.show()\n",
    "\n",
    "    return gradient_magnitude"
   ]
  },
  {
   "cell_type": "markdown",
   "metadata": {},
   "source": [
    "## actual calling functions "
   ]
  },
  {
   "cell_type": "markdown",
   "metadata": {},
   "source": [
    "## calling gauissian Blur"
   ]
  },
  {
   "cell_type": "code",
   "execution_count": null,
   "metadata": {},
   "outputs": [],
   "source": [
    "frame_g=gaussian_blur(gray, 3,ol,True)\n"
   ]
  },
  {
   "cell_type": "code",
   "execution_count": null,
   "metadata": {
    "scrolled": true
   },
   "outputs": [],
   "source": [
    "plt.imshow(frame_g)\n",
    "plt.show()\n"
   ]
  },
  {
   "cell_type": "markdown",
   "metadata": {},
   "source": [
    "## calling sober edge detection "
   ]
  },
  {
   "cell_type": "code",
   "execution_count": null,
   "metadata": {},
   "outputs": [],
   "source": [
    "image_row, image_col = image.shape\n",
    "output_image = allocate(shape=(image_row,image_col,), dtype=np.single)"
   ]
  },
  {
   "cell_type": "code",
   "execution_count": null,
   "metadata": {},
   "outputs": [],
   "source": [
    "filter = np.array([[-1, 0, 1], [-2, 0, 2], [-1, 0, 1]])\n",
    "\n",
    "## main calling \n",
    "output_image = sobel_edge_detection(frame_g, filter, ol,verbose=True)"
   ]
  },
  {
   "cell_type": "code",
   "execution_count": null,
   "metadata": {},
   "outputs": [],
   "source": [
    "plt.imshow(output_image)\n",
    "plt.show()\n"
   ]
  },
  {
   "cell_type": "code",
   "execution_count": null,
   "metadata": {},
   "outputs": [],
   "source": [
    "### Done!! Congratulations !!! "
   ]
  },
  {
   "cell_type": "code",
   "execution_count": null,
   "metadata": {},
   "outputs": [],
   "source": []
  }
 ],
 "metadata": {
  "kernelspec": {
   "display_name": "Python 3",
   "language": "python",
   "name": "python3"
  },
  "language_info": {
   "codemirror_mode": {
    "name": "ipython",
    "version": 3
   },
   "file_extension": ".py",
   "mimetype": "text/x-python",
   "name": "python",
   "nbconvert_exporter": "python",
   "pygments_lexer": "ipython3",
   "version": "3.6.5"
  }
 },
 "nbformat": 4,
 "nbformat_minor": 5
}
